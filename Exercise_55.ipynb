{
  "nbformat": 4,
  "nbformat_minor": 0,
  "metadata": {
    "colab": {
      "provenance": [],
      "authorship_tag": "ABX9TyMg8vzhO6LF8YGrki0X2Oyj",
      "include_colab_link": true
    },
    "kernelspec": {
      "name": "python3",
      "display_name": "Python 3"
    },
    "language_info": {
      "name": "python"
    }
  },
  "cells": [
    {
      "cell_type": "markdown",
      "metadata": {
        "id": "view-in-github",
        "colab_type": "text"
      },
      "source": [
        "<a href=\"https://colab.research.google.com/github/milenar18/Topicos_Aplicada_II-Tutorial_3/blob/main/Exercise_55.ipynb\" target=\"_parent\"><img src=\"https://colab.research.google.com/assets/colab-badge.svg\" alt=\"Open In Colab\"/></a>"
      ]
    },
    {
      "cell_type": "code",
      "execution_count": 1,
      "metadata": {
        "colab": {
          "base_uri": "https://localhost:8080/"
        },
        "id": "1zBjxyphQZRM",
        "outputId": "a173fc72-f95b-4d0f-e3a1-ffdc9dfd3633"
      },
      "outputs": [
        {
          "output_type": "stream",
          "name": "stdout",
          "text": [
            "Collecting gudhi\n",
            "  Downloading gudhi-3.11.0-cp311-cp311-manylinux_2_28_x86_64.whl.metadata (1.6 kB)\n",
            "Requirement already satisfied: numpy>=1.15.0 in /usr/local/lib/python3.11/dist-packages (from gudhi) (2.0.2)\n",
            "Downloading gudhi-3.11.0-cp311-cp311-manylinux_2_28_x86_64.whl (4.2 MB)\n",
            "\u001b[2K   \u001b[90m━━━━━━━━━━━━━━━━━━━━━━━━━━━━━━━━━━━━━━━━\u001b[0m \u001b[32m4.2/4.2 MB\u001b[0m \u001b[31m46.6 MB/s\u001b[0m eta \u001b[36m0:00:00\u001b[0m\n",
            "\u001b[?25hInstalling collected packages: gudhi\n",
            "Successfully installed gudhi-3.11.0\n",
            "Ciclos persistentes (>0.03) - Flauta: [np.int64(2), np.int64(2), np.int64(2), np.int64(0), np.int64(3), np.int64(3), np.int64(2), np.int64(1), np.int64(3), np.int64(3)]\n",
            "Média - Flauta: 2.1\n",
            "Ciclos persistentes (>0.03) - Clarinete: [np.int64(0), np.int64(0), np.int64(0), np.int64(0), np.int64(0), np.int64(0), np.int64(0), np.int64(0), np.int64(0), np.int64(0)]\n",
            "Média - Clarinete: 0.0\n"
          ]
        }
      ],
      "source": [
        "# Bibliotecas\n",
        "!pip install gudhi\n",
        "import numpy as np\n",
        "import matplotlib.pyplot as plt\n",
        "import gudhi\n",
        "\n",
        "# Função para Time Delay Embedding\n",
        "def TimeDelayEmbedding(x, edim, delay=1):\n",
        "    ts = np.asarray(x)\n",
        "    if len(np.shape(ts)) == 1:\n",
        "        ts = np.reshape(ts, (1, ts.shape[0]))\n",
        "    output = ts\n",
        "    for i in range(edim - 1):\n",
        "        output = np.concatenate((output, np.roll(ts, -(i + 1) * delay, axis=1)), axis=0)\n",
        "    return output\n",
        "\n",
        "# Carregamento dos dados\n",
        "flute = np.genfromtxt('flute.csv', delimiter=',')\n",
        "clarinet = np.genfromtxt('clarinet.csv', delimiter=',')\n",
        "\n",
        "# Função para extrair ciclos com persistência alta\n",
        "def compute_betti(data, N=10, len_sample=500, delay=2):\n",
        "    betti_counts = []\n",
        "    for _ in range(N):\n",
        "        i = np.random.randint(0, len(data) - len_sample)\n",
        "        sample = data[i:i + len_sample]\n",
        "        tde = TimeDelayEmbedding(sample, edim=2, delay=delay)\n",
        "        st = gudhi.RipsComplex(points=tde.T, max_edge_length=0.2).create_simplex_tree(max_dimension=2)\n",
        "        barcode = st.persistence(homology_coeff_field=2)\n",
        "        pers = np.array([I[1] - I[0] for I in st.persistence_intervals_in_dimension(1)])\n",
        "        betti_counts.append(sum(pers > 0.03))\n",
        "    return betti_counts\n",
        "\n",
        "# Cálculo para flauta\n",
        "betti_flute = compute_betti(flute, N=10, delay=2)\n",
        "betti_flute_mean = np.mean(betti_flute)\n",
        "\n",
        "# Cálculo para clarinete\n",
        "betti_clarinet = compute_betti(clarinet, N=10, delay=1)\n",
        "betti_clarinet_mean = np.mean(betti_clarinet)\n",
        "\n",
        "# Resultados\n",
        "print(f\"Ciclos persistentes (>0.03) - Flauta: {betti_flute}\")\n",
        "print(f\"Média - Flauta: {betti_flute_mean}\")\n",
        "\n",
        "print(f\"Ciclos persistentes (>0.03) - Clarinete: {betti_clarinet}\")\n",
        "print(f\"Média - Clarinete: {betti_clarinet_mean}\")"
      ]
    }
  ]
}